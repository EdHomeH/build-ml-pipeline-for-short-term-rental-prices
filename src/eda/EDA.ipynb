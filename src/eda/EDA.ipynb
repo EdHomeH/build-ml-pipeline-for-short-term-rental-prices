{
 "cells": [
  {
   "attachments": {},
   "cell_type": "markdown",
   "id": "f9aaed69",
   "metadata": {},
   "source": [
    "## EDA"
   ]
  },
  {
   "attachments": {},
   "cell_type": "markdown",
   "id": "66506f72",
   "metadata": {},
   "source": [
    " ### Get data from wandb"
   ]
  },
  {
   "cell_type": "code",
   "execution_count": null,
   "id": "1324e903",
   "metadata": {},
   "outputs": [],
   "source": [
    "import wandb\n",
    "import pandas as pd\n",
    "\n",
    "run = wandb.init(project=\"nyc_airbnb\", group=\"eda\", save_code=True)\n",
    "local_path = wandb.use_artifact(\"sample.csv:latest\").file()\n",
    "df = pd.read_csv(local_path)"
   ]
  },
  {
   "attachments": {},
   "cell_type": "markdown",
   "id": "8a91e36e",
   "metadata": {},
   "source": [
    "### Profile data to get a \"high level\" view of it"
   ]
  },
  {
   "cell_type": "code",
   "execution_count": null,
   "id": "6a7fce8e",
   "metadata": {},
   "outputs": [],
   "source": [
    "import pandas_profiling\n",
    "\n",
    "profile = pandas_profiling.ProfileReport(df)\n",
    "profile.to_widgets()"
   ]
  },
  {
   "attachments": {},
   "cell_type": "markdown",
   "id": "35a8dc6c",
   "metadata": {},
   "source": [
    "### Filter out outliers"
   ]
  },
  {
   "cell_type": "code",
   "execution_count": null,
   "id": "b348ccec",
   "metadata": {},
   "outputs": [],
   "source": [
    "# Drop outliers\n",
    "min_price = 10\n",
    "max_price = 350\n",
    "idx = df['price'].between(min_price, max_price)\n",
    "df = df[idx].copy()\n",
    "# Convert last_review to datetime\n",
    "df['last_review'] = pd.to_datetime(df['last_review'])"
   ]
  },
  {
   "cell_type": "code",
   "execution_count": null,
   "id": "0e465d7d",
   "metadata": {},
   "outputs": [],
   "source": [
    "df.info()"
   ]
  },
  {
   "attachments": {},
   "cell_type": "markdown",
   "id": "5391eefa",
   "metadata": {},
   "source": [
    "### Terminate the run"
   ]
  },
  {
   "cell_type": "code",
   "execution_count": null,
   "id": "bc86cb19",
   "metadata": {},
   "outputs": [],
   "source": [
    "run.finish()"
   ]
  },
  {
   "cell_type": "code",
   "execution_count": null,
   "id": "60e6f091",
   "metadata": {},
   "outputs": [],
   "source": []
  }
 ],
 "metadata": {
  "kernelspec": {
   "display_name": "nyc_airbnb_dev",
   "language": "python",
   "name": "python3"
  },
  "language_info": {
   "codemirror_mode": {
    "name": "ipython",
    "version": 3
   },
   "file_extension": ".py",
   "mimetype": "text/x-python",
   "name": "python",
   "nbconvert_exporter": "python",
   "pygments_lexer": "ipython3",
   "version": "3.9.15 | packaged by conda-forge | (main, Nov 22 2022, 08:50:29) \n[Clang 14.0.6 ]"
  },
  "vscode": {
   "interpreter": {
    "hash": "1dc9232d606f97de4c34d13874bdda6242d3f38962f4a313ac70071f098c8acb"
   }
  }
 },
 "nbformat": 4,
 "nbformat_minor": 5
}
